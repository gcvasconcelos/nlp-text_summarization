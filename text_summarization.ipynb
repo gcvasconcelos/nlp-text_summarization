{
  "nbformat": 4,
  "nbformat_minor": 0,
  "metadata": {
    "colab": {
      "name": "MT - Text Sumarization.ipynb",
      "provenance": [],
      "collapsed_sections": [],
      "authorship_tag": "ABX9TyOFuoD0bVYN64pLW62DtxyR",
      "include_colab_link": true
    },
    "kernelspec": {
      "name": "python3",
      "display_name": "Python 3"
    },
    "accelerator": "GPU"
  },
  "cells": [
    {
      "cell_type": "markdown",
      "metadata": {
        "id": "view-in-github",
        "colab_type": "text"
      },
      "source": [
        "<a href=\"https://colab.research.google.com/github/gcvasconcelos/text_summarization/blob/main/text_summarization.ipynb\" target=\"_parent\"><img src=\"https://colab.research.google.com/assets/colab-badge.svg\" alt=\"Open In Colab\"/></a>"
      ]
    },
    {
      "cell_type": "markdown",
      "metadata": {
        "id": "vZghk0_qLL6Y"
      },
      "source": [
        "# Sumarização automática abstrativa\n",
        "\n",
        "Neste projeto, é proposta a aplicação de um modelo *sequence-to-sequence* usando Redes Neurais Recorrentes (RNN) implementados em uma arquitetura *encoder-decoder* com o objetivo da resolução da tarefa de sumarização automática abstrativa, ou seja, a construção de um resumo que capture o sentido e contexto presente no texto original mas que não utiliza necessariamente as palavras deste. \n",
        "\n",
        "Os textos estão escritos na língua portuguesa e são transcrições de pronunciamentos realizados por senadores no Senado Federal do Brasil. A base têm a característica especial de possuir um extenso vocabulário e tamanho onde, todavia, cada discurso discorre sobre pouco mais de um assunto geral. \n",
        "\n",
        "Para lidar com esses desafios, na fase de treinamento do modelo foi utilizado no *encoder* um conjunto de modelos *Long Short-Term Memory* (LSTM) bi-direcional que é treinado com os textos dos discursos e tem como fim capturar seu contexto, tanto do passado como do futuro. Partes importantes deste contexto são selecionadas por um mecanismo de *attention* que é utilizado para inicializar o *decoder*, uma outra LSTM que é treinada com resumos gerados por humanos. \n",
        "\n",
        "Os resumos foram gerados automaticamente para 14.535 discursos e avaliados a partir das métricas ROUGE e BERTScore, que tiveram um resultado satisfatório quando comparados com a literatura.\n"
      ]
    },
    {
      "cell_type": "markdown",
      "metadata": {
        "id": "atK5b39KLVgr"
      },
      "source": [
        "## Configuração do Ambiente"
      ]
    },
    {
      "cell_type": "code",
      "metadata": {
        "id": "WIm485qMTiA7",
        "colab": {
          "base_uri": "https://localhost:8080/"
        },
        "outputId": "eee24dd1-5bdf-42f0-f30d-369ec213ee86"
      },
      "source": [
        "!pip install unidecode\n",
        "!pip install rouge\n",
        "!pip install torch\n",
        "!pip install transformers\n",
        "import torch\n",
        "import tensorflow as tf\n",
        "print(f\"GPU is available for torch: {torch.cuda.is_available()}\")\n",
        "print(f\"GPU is available for tensorflow: {tf.test.gpu_device_name()}\")"
      ],
      "execution_count": null,
      "outputs": [
        {
          "output_type": "stream",
          "text": [
            "Requirement already satisfied: unidecode in /usr/local/lib/python3.6/dist-packages (1.1.1)\n",
            "Requirement already satisfied: rouge in /usr/local/lib/python3.6/dist-packages (1.0.0)\n",
            "Requirement already satisfied: six in /usr/local/lib/python3.6/dist-packages (from rouge) (1.15.0)\n",
            "Requirement already satisfied: torch in /usr/local/lib/python3.6/dist-packages (1.7.0+cu101)\n",
            "Requirement already satisfied: numpy in /usr/local/lib/python3.6/dist-packages (from torch) (1.18.5)\n",
            "Requirement already satisfied: dataclasses in /usr/local/lib/python3.6/dist-packages (from torch) (0.8)\n",
            "Requirement already satisfied: future in /usr/local/lib/python3.6/dist-packages (from torch) (0.16.0)\n",
            "Requirement already satisfied: typing-extensions in /usr/local/lib/python3.6/dist-packages (from torch) (3.7.4.3)\n",
            "Requirement already satisfied: transformers in /usr/local/lib/python3.6/dist-packages (4.0.1)\n",
            "Requirement already satisfied: regex!=2019.12.17 in /usr/local/lib/python3.6/dist-packages (from transformers) (2019.12.20)\n",
            "Requirement already satisfied: requests in /usr/local/lib/python3.6/dist-packages (from transformers) (2.23.0)\n",
            "Requirement already satisfied: packaging in /usr/local/lib/python3.6/dist-packages (from transformers) (20.7)\n",
            "Requirement already satisfied: dataclasses; python_version < \"3.7\" in /usr/local/lib/python3.6/dist-packages (from transformers) (0.8)\n",
            "Requirement already satisfied: filelock in /usr/local/lib/python3.6/dist-packages (from transformers) (3.0.12)\n",
            "Requirement already satisfied: sacremoses in /usr/local/lib/python3.6/dist-packages (from transformers) (0.0.43)\n",
            "Requirement already satisfied: tokenizers==0.9.4 in /usr/local/lib/python3.6/dist-packages (from transformers) (0.9.4)\n",
            "Requirement already satisfied: numpy in /usr/local/lib/python3.6/dist-packages (from transformers) (1.18.5)\n",
            "Requirement already satisfied: tqdm>=4.27 in /usr/local/lib/python3.6/dist-packages (from transformers) (4.41.1)\n",
            "Requirement already satisfied: chardet<4,>=3.0.2 in /usr/local/lib/python3.6/dist-packages (from requests->transformers) (3.0.4)\n",
            "Requirement already satisfied: urllib3!=1.25.0,!=1.25.1,<1.26,>=1.21.1 in /usr/local/lib/python3.6/dist-packages (from requests->transformers) (1.24.3)\n",
            "Requirement already satisfied: certifi>=2017.4.17 in /usr/local/lib/python3.6/dist-packages (from requests->transformers) (2020.12.5)\n",
            "Requirement already satisfied: idna<3,>=2.5 in /usr/local/lib/python3.6/dist-packages (from requests->transformers) (2.10)\n",
            "Requirement already satisfied: pyparsing>=2.0.2 in /usr/local/lib/python3.6/dist-packages (from packaging->transformers) (2.4.7)\n",
            "Requirement already satisfied: click in /usr/local/lib/python3.6/dist-packages (from sacremoses->transformers) (7.1.2)\n",
            "Requirement already satisfied: six in /usr/local/lib/python3.6/dist-packages (from sacremoses->transformers) (1.15.0)\n",
            "Requirement already satisfied: joblib in /usr/local/lib/python3.6/dist-packages (from sacremoses->transformers) (0.17.0)\n",
            "GPU is available for torch: True\n",
            "GPU is available for tensorflow: /device:GPU:0\n"
          ],
          "name": "stdout"
        }
      ]
    },
    {
      "cell_type": "code",
      "metadata": {
        "colab": {
          "base_uri": "https://localhost:8080/"
        },
        "id": "zB_BL5_3Peds",
        "outputId": "1a107723-e2f9-43c6-b289-6691cf549fc5"
      },
      "source": [
        "!pip install -U spacy\n",
        "!pip install -U spacy-lookups-data\n",
        "!python -m spacy download pt_core_news_lg"
      ],
      "execution_count": null,
      "outputs": [
        {
          "output_type": "stream",
          "text": [
            "Requirement already up-to-date: spacy in /usr/local/lib/python3.6/dist-packages (2.3.5)\n",
            "Requirement already satisfied, skipping upgrade: wasabi<1.1.0,>=0.4.0 in /usr/local/lib/python3.6/dist-packages (from spacy) (0.8.0)\n",
            "Requirement already satisfied, skipping upgrade: blis<0.8.0,>=0.4.0 in /usr/local/lib/python3.6/dist-packages (from spacy) (0.4.1)\n",
            "Requirement already satisfied, skipping upgrade: tqdm<5.0.0,>=4.38.0 in /usr/local/lib/python3.6/dist-packages (from spacy) (4.41.1)\n",
            "Requirement already satisfied, skipping upgrade: catalogue<1.1.0,>=0.0.7 in /usr/local/lib/python3.6/dist-packages (from spacy) (1.0.0)\n",
            "Requirement already satisfied, skipping upgrade: numpy>=1.15.0 in /usr/local/lib/python3.6/dist-packages (from spacy) (1.18.5)\n",
            "Requirement already satisfied, skipping upgrade: murmurhash<1.1.0,>=0.28.0 in /usr/local/lib/python3.6/dist-packages (from spacy) (1.0.5)\n",
            "Requirement already satisfied, skipping upgrade: srsly<1.1.0,>=1.0.2 in /usr/local/lib/python3.6/dist-packages (from spacy) (1.0.5)\n",
            "Requirement already satisfied, skipping upgrade: setuptools in /usr/local/lib/python3.6/dist-packages (from spacy) (50.3.2)\n",
            "Requirement already satisfied, skipping upgrade: requests<3.0.0,>=2.13.0 in /usr/local/lib/python3.6/dist-packages (from spacy) (2.23.0)\n",
            "Requirement already satisfied, skipping upgrade: preshed<3.1.0,>=3.0.2 in /usr/local/lib/python3.6/dist-packages (from spacy) (3.0.5)\n",
            "Requirement already satisfied, skipping upgrade: cymem<2.1.0,>=2.0.2 in /usr/local/lib/python3.6/dist-packages (from spacy) (2.0.5)\n",
            "Requirement already satisfied, skipping upgrade: thinc<7.5.0,>=7.4.1 in /usr/local/lib/python3.6/dist-packages (from spacy) (7.4.5)\n",
            "Requirement already satisfied, skipping upgrade: plac<1.2.0,>=0.9.6 in /usr/local/lib/python3.6/dist-packages (from spacy) (1.1.3)\n",
            "Requirement already satisfied, skipping upgrade: importlib-metadata>=0.20; python_version < \"3.8\" in /usr/local/lib/python3.6/dist-packages (from catalogue<1.1.0,>=0.0.7->spacy) (3.1.1)\n",
            "Requirement already satisfied, skipping upgrade: idna<3,>=2.5 in /usr/local/lib/python3.6/dist-packages (from requests<3.0.0,>=2.13.0->spacy) (2.10)\n",
            "Requirement already satisfied, skipping upgrade: chardet<4,>=3.0.2 in /usr/local/lib/python3.6/dist-packages (from requests<3.0.0,>=2.13.0->spacy) (3.0.4)\n",
            "Requirement already satisfied, skipping upgrade: certifi>=2017.4.17 in /usr/local/lib/python3.6/dist-packages (from requests<3.0.0,>=2.13.0->spacy) (2020.12.5)\n",
            "Requirement already satisfied, skipping upgrade: urllib3!=1.25.0,!=1.25.1,<1.26,>=1.21.1 in /usr/local/lib/python3.6/dist-packages (from requests<3.0.0,>=2.13.0->spacy) (1.24.3)\n",
            "Requirement already satisfied, skipping upgrade: zipp>=0.5 in /usr/local/lib/python3.6/dist-packages (from importlib-metadata>=0.20; python_version < \"3.8\"->catalogue<1.1.0,>=0.0.7->spacy) (3.4.0)\n",
            "Requirement already up-to-date: spacy-lookups-data in /usr/local/lib/python3.6/dist-packages (0.3.2)\n",
            "Requirement already satisfied, skipping upgrade: setuptools in /usr/local/lib/python3.6/dist-packages (from spacy-lookups-data) (50.3.2)\n",
            "Requirement already satisfied: pt_core_news_lg==2.3.0 from https://github.com/explosion/spacy-models/releases/download/pt_core_news_lg-2.3.0/pt_core_news_lg-2.3.0.tar.gz#egg=pt_core_news_lg==2.3.0 in /usr/local/lib/python3.6/dist-packages (2.3.0)\n",
            "Requirement already satisfied: spacy<2.4.0,>=2.3.0 in /usr/local/lib/python3.6/dist-packages (from pt_core_news_lg==2.3.0) (2.3.5)\n",
            "Requirement already satisfied: requests<3.0.0,>=2.13.0 in /usr/local/lib/python3.6/dist-packages (from spacy<2.4.0,>=2.3.0->pt_core_news_lg==2.3.0) (2.23.0)\n",
            "Requirement already satisfied: thinc<7.5.0,>=7.4.1 in /usr/local/lib/python3.6/dist-packages (from spacy<2.4.0,>=2.3.0->pt_core_news_lg==2.3.0) (7.4.5)\n",
            "Requirement already satisfied: wasabi<1.1.0,>=0.4.0 in /usr/local/lib/python3.6/dist-packages (from spacy<2.4.0,>=2.3.0->pt_core_news_lg==2.3.0) (0.8.0)\n",
            "Requirement already satisfied: cymem<2.1.0,>=2.0.2 in /usr/local/lib/python3.6/dist-packages (from spacy<2.4.0,>=2.3.0->pt_core_news_lg==2.3.0) (2.0.5)\n",
            "Requirement already satisfied: catalogue<1.1.0,>=0.0.7 in /usr/local/lib/python3.6/dist-packages (from spacy<2.4.0,>=2.3.0->pt_core_news_lg==2.3.0) (1.0.0)\n",
            "Requirement already satisfied: srsly<1.1.0,>=1.0.2 in /usr/local/lib/python3.6/dist-packages (from spacy<2.4.0,>=2.3.0->pt_core_news_lg==2.3.0) (1.0.5)\n",
            "Requirement already satisfied: plac<1.2.0,>=0.9.6 in /usr/local/lib/python3.6/dist-packages (from spacy<2.4.0,>=2.3.0->pt_core_news_lg==2.3.0) (1.1.3)\n",
            "Requirement already satisfied: blis<0.8.0,>=0.4.0 in /usr/local/lib/python3.6/dist-packages (from spacy<2.4.0,>=2.3.0->pt_core_news_lg==2.3.0) (0.4.1)\n",
            "Requirement already satisfied: preshed<3.1.0,>=3.0.2 in /usr/local/lib/python3.6/dist-packages (from spacy<2.4.0,>=2.3.0->pt_core_news_lg==2.3.0) (3.0.5)\n",
            "Requirement already satisfied: setuptools in /usr/local/lib/python3.6/dist-packages (from spacy<2.4.0,>=2.3.0->pt_core_news_lg==2.3.0) (50.3.2)\n",
            "Requirement already satisfied: murmurhash<1.1.0,>=0.28.0 in /usr/local/lib/python3.6/dist-packages (from spacy<2.4.0,>=2.3.0->pt_core_news_lg==2.3.0) (1.0.5)\n",
            "Requirement already satisfied: numpy>=1.15.0 in /usr/local/lib/python3.6/dist-packages (from spacy<2.4.0,>=2.3.0->pt_core_news_lg==2.3.0) (1.18.5)\n",
            "Requirement already satisfied: tqdm<5.0.0,>=4.38.0 in /usr/local/lib/python3.6/dist-packages (from spacy<2.4.0,>=2.3.0->pt_core_news_lg==2.3.0) (4.41.1)\n",
            "Requirement already satisfied: certifi>=2017.4.17 in /usr/local/lib/python3.6/dist-packages (from requests<3.0.0,>=2.13.0->spacy<2.4.0,>=2.3.0->pt_core_news_lg==2.3.0) (2020.12.5)\n",
            "Requirement already satisfied: urllib3!=1.25.0,!=1.25.1,<1.26,>=1.21.1 in /usr/local/lib/python3.6/dist-packages (from requests<3.0.0,>=2.13.0->spacy<2.4.0,>=2.3.0->pt_core_news_lg==2.3.0) (1.24.3)\n",
            "Requirement already satisfied: chardet<4,>=3.0.2 in /usr/local/lib/python3.6/dist-packages (from requests<3.0.0,>=2.13.0->spacy<2.4.0,>=2.3.0->pt_core_news_lg==2.3.0) (3.0.4)\n",
            "Requirement already satisfied: idna<3,>=2.5 in /usr/local/lib/python3.6/dist-packages (from requests<3.0.0,>=2.13.0->spacy<2.4.0,>=2.3.0->pt_core_news_lg==2.3.0) (2.10)\n",
            "Requirement already satisfied: importlib-metadata>=0.20; python_version < \"3.8\" in /usr/local/lib/python3.6/dist-packages (from catalogue<1.1.0,>=0.0.7->spacy<2.4.0,>=2.3.0->pt_core_news_lg==2.3.0) (3.1.1)\n",
            "Requirement already satisfied: zipp>=0.5 in /usr/local/lib/python3.6/dist-packages (from importlib-metadata>=0.20; python_version < \"3.8\"->catalogue<1.1.0,>=0.0.7->spacy<2.4.0,>=2.3.0->pt_core_news_lg==2.3.0) (3.4.0)\n",
            "\u001b[38;5;2m✔ Download and installation successful\u001b[0m\n",
            "You can now load the model via spacy.load('pt_core_news_lg')\n"
          ],
          "name": "stdout"
        }
      ]
    },
    {
      "cell_type": "code",
      "metadata": {
        "id": "3zXguWKXTuBM"
      },
      "source": [
        "import pandas as pd\n",
        "import pickle\n",
        "import time\n",
        "from unidecode import unidecode\n",
        "import re\n",
        "import spacy\n",
        "from collections import defaultdict\n",
        "import matplotlib.pyplot as plt\n",
        "import numpy as np\n",
        "from gensim.models import Word2Vec\n",
        "from sklearn.model_selection import train_test_split\n",
        "from keras.preprocessing.text import Tokenizer\n",
        "from keras.preprocessing.sequence import pad_sequences\n",
        "from tensorflow.keras.layers import Input, LSTM, Embedding, Dense, Concatenate, TimeDistributed, Bidirectional, Add\n",
        "# from attention import Attention\n",
        "from tensorflow.keras.models import Model\n",
        "from tensorflow.keras.callbacks import EarlyStopping\n",
        "from tensorflow.python.keras.layers import Layer\n",
        "from tensorflow.python.keras import backend as K\n",
        "from rouge import Rouge\n",
        "from bert_score import score"
      ],
      "execution_count": null,
      "outputs": []
    },
    {
      "cell_type": "code",
      "metadata": {
        "colab": {
          "base_uri": "https://localhost:8080/"
        },
        "id": "ZzSSM2TLhU-R",
        "outputId": "84a2dc40-14ac-4e39-f9ab-514c8667ea43"
      },
      "source": [
        "from google.colab import drive\n",
        "drive.mount('/content/drive/', force_remount=True)\n",
        "!ls \"/content/drive/My Drive/Colab Notebooks/\""
      ],
      "execution_count": null,
      "outputs": [
        {
          "output_type": "stream",
          "text": [
            "Mounted at /content/drive/\n",
            " discursos_clean.csv\t   'MT - Text Sumarization.ipynb'   word2vec_new.model\n",
            " discursos_raw_all.pickle   val_data.csv\n"
          ],
          "name": "stdout"
        }
      ]
    },
    {
      "cell_type": "markdown",
      "metadata": {
        "id": "B3_YrBzRSbW3"
      },
      "source": [
        "## Pré processamento"
      ]
    },
    {
      "cell_type": "code",
      "metadata": {
        "colab": {
          "base_uri": "https://localhost:8080/",
          "height": 204
        },
        "id": "isfbXKwTV7pI",
        "outputId": "56ca2af0-b296-4ce8-ca33-ca557ab86af1"
      },
      "source": [
        "data_raw = pickle.load(open(\"/content/drive/My Drive/Colab Notebooks/discursos_raw_all.pickle\", \"rb\"))\n",
        "raw_df = pd.DataFrame(data_raw)\n",
        "raw_df.head()"
      ],
      "execution_count": null,
      "outputs": [
        {
          "output_type": "execute_result",
          "data": {
            "text/html": [
              "<div>\n",
              "<style scoped>\n",
              "    .dataframe tbody tr th:only-of-type {\n",
              "        vertical-align: middle;\n",
              "    }\n",
              "\n",
              "    .dataframe tbody tr th {\n",
              "        vertical-align: top;\n",
              "    }\n",
              "\n",
              "    .dataframe thead th {\n",
              "        text-align: right;\n",
              "    }\n",
              "</style>\n",
              "<table border=\"1\" class=\"dataframe\">\n",
              "  <thead>\n",
              "    <tr style=\"text-align: right;\">\n",
              "      <th></th>\n",
              "      <th>IdentificacaoParlamentar</th>\n",
              "      <th>IdentificacaoPronunciamento</th>\n",
              "      <th>Conteudo</th>\n",
              "    </tr>\n",
              "  </thead>\n",
              "  <tbody>\n",
              "    <tr>\n",
              "      <th>0</th>\n",
              "      <td>{'CodigoParlamentar': '825', 'CodigoPublicoNaL...</td>\n",
              "      <td>{'CodigoPronunciamento': '396425', 'TipoUsoPal...</td>\n",
              "      <td>O SR. PAULO PAIM (Bloco/PT - RS. Pronuncia o s...</td>\n",
              "    </tr>\n",
              "    <tr>\n",
              "      <th>1</th>\n",
              "      <td>{'CodigoParlamentar': '4697', 'NomeParlamentar...</td>\n",
              "      <td>{'CodigoPronunciamento': '400383', 'TipoUsoPal...</td>\n",
              "      <td>A SRª ANGELA PORTELA (Bloco/PT - RR. Pronuncia...</td>\n",
              "    </tr>\n",
              "    <tr>\n",
              "      <th>2</th>\n",
              "      <td>{'CodigoParlamentar': '4531', 'CodigoPublicoNa...</td>\n",
              "      <td>{'CodigoPronunciamento': '410003', 'TipoUsoPal...</td>\n",
              "      <td>O SR. JAYME CAMPOS (Bloco Minoria/DEM - MT. Pr...</td>\n",
              "    </tr>\n",
              "    <tr>\n",
              "      <th>3</th>\n",
              "      <td>{'CodigoParlamentar': '53', 'NomeParlamentar':...</td>\n",
              "      <td>{'CodigoPronunciamento': '386066', 'TipoUsoPal...</td>\n",
              "      <td>SENADO FEDERAL SF -              SECRETARIA-GE...</td>\n",
              "    </tr>\n",
              "    <tr>\n",
              "      <th>4</th>\n",
              "      <td>{'CodigoParlamentar': '4529', 'NomeParlamentar...</td>\n",
              "      <td>{'CodigoPronunciamento': '399259', 'TipoUsoPal...</td>\n",
              "      <td>O SR. CÍCERO LUCENA  (Bloco/PSDB - PB) - É por...</td>\n",
              "    </tr>\n",
              "  </tbody>\n",
              "</table>\n",
              "</div>"
            ],
            "text/plain": [
              "                            IdentificacaoParlamentar  ...                                           Conteudo\n",
              "0  {'CodigoParlamentar': '825', 'CodigoPublicoNaL...  ...  O SR. PAULO PAIM (Bloco/PT - RS. Pronuncia o s...\n",
              "1  {'CodigoParlamentar': '4697', 'NomeParlamentar...  ...  A SRª ANGELA PORTELA (Bloco/PT - RR. Pronuncia...\n",
              "2  {'CodigoParlamentar': '4531', 'CodigoPublicoNa...  ...  O SR. JAYME CAMPOS (Bloco Minoria/DEM - MT. Pr...\n",
              "3  {'CodigoParlamentar': '53', 'NomeParlamentar':...  ...  SENADO FEDERAL SF -              SECRETARIA-GE...\n",
              "4  {'CodigoParlamentar': '4529', 'NomeParlamentar...  ...  O SR. CÍCERO LUCENA  (Bloco/PSDB - PB) - É por...\n",
              "\n",
              "[5 rows x 3 columns]"
            ]
          },
          "metadata": {
            "tags": []
          },
          "execution_count": 5
        }
      ]
    },
    {
      "cell_type": "code",
      "metadata": {
        "colab": {
          "base_uri": "https://localhost:8080/",
          "height": 357
        },
        "id": "GyUtuR_vNZam",
        "outputId": "fca793c6-9d16-433b-c273-a88a5f0e4671"
      },
      "source": [
        "data_df = pd.DataFrame(columns=['speech', 'speech_summary'])\n",
        "data_df['speech'] = raw_df['Conteudo']\n",
        "data_df['speech_summary'] = [dic.get('TextoResumo') for dic in raw_df['IdentificacaoPronunciamento']]\n",
        "\n",
        "data_df.info()\n",
        "data_df.head()"
      ],
      "execution_count": null,
      "outputs": [
        {
          "output_type": "stream",
          "text": [
            "<class 'pandas.core.frame.DataFrame'>\n",
            "RangeIndex: 74981 entries, 0 to 74980\n",
            "Data columns (total 2 columns):\n",
            " #   Column          Non-Null Count  Dtype \n",
            "---  ------          --------------  ----- \n",
            " 0   speech          74981 non-null  object\n",
            " 1   speech_summary  74167 non-null  object\n",
            "dtypes: object(2)\n",
            "memory usage: 1.1+ MB\n"
          ],
          "name": "stdout"
        },
        {
          "output_type": "execute_result",
          "data": {
            "text/html": [
              "<div>\n",
              "<style scoped>\n",
              "    .dataframe tbody tr th:only-of-type {\n",
              "        vertical-align: middle;\n",
              "    }\n",
              "\n",
              "    .dataframe tbody tr th {\n",
              "        vertical-align: top;\n",
              "    }\n",
              "\n",
              "    .dataframe thead th {\n",
              "        text-align: right;\n",
              "    }\n",
              "</style>\n",
              "<table border=\"1\" class=\"dataframe\">\n",
              "  <thead>\n",
              "    <tr style=\"text-align: right;\">\n",
              "      <th></th>\n",
              "      <th>speech</th>\n",
              "      <th>speech_summary</th>\n",
              "    </tr>\n",
              "  </thead>\n",
              "  <tbody>\n",
              "    <tr>\n",
              "      <th>0</th>\n",
              "      <td>O SR. PAULO PAIM (Bloco/PT - RS. Pronuncia o s...</td>\n",
              "      <td>\\n      Destaque à aprovação, pelo Senado Fede...</td>\n",
              "    </tr>\n",
              "    <tr>\n",
              "      <th>1</th>\n",
              "      <td>A SRª ANGELA PORTELA (Bloco/PT - RR. Pronuncia...</td>\n",
              "      <td>\\n      Satisfação com a postura do Governo Fe...</td>\n",
              "    </tr>\n",
              "    <tr>\n",
              "      <th>2</th>\n",
              "      <td>O SR. JAYME CAMPOS (Bloco Minoria/DEM - MT. Pr...</td>\n",
              "      <td>\\n      Apelo no sentido da aprovação, pela Câ...</td>\n",
              "    </tr>\n",
              "    <tr>\n",
              "      <th>3</th>\n",
              "      <td>SENADO FEDERAL SF -              SECRETARIA-GE...</td>\n",
              "      <td>\\n      Relato sobre as dificuldades verificad...</td>\n",
              "    </tr>\n",
              "    <tr>\n",
              "      <th>4</th>\n",
              "      <td>O SR. CÍCERO LUCENA  (Bloco/PSDB - PB) - É por...</td>\n",
              "      <td>None</td>\n",
              "    </tr>\n",
              "  </tbody>\n",
              "</table>\n",
              "</div>"
            ],
            "text/plain": [
              "                                              speech                                     speech_summary\n",
              "0  O SR. PAULO PAIM (Bloco/PT - RS. Pronuncia o s...  \\n      Destaque à aprovação, pelo Senado Fede...\n",
              "1  A SRª ANGELA PORTELA (Bloco/PT - RR. Pronuncia...  \\n      Satisfação com a postura do Governo Fe...\n",
              "2  O SR. JAYME CAMPOS (Bloco Minoria/DEM - MT. Pr...  \\n      Apelo no sentido da aprovação, pela Câ...\n",
              "3  SENADO FEDERAL SF -              SECRETARIA-GE...  \\n      Relato sobre as dificuldades verificad...\n",
              "4  O SR. CÍCERO LUCENA  (Bloco/PSDB - PB) - É por...                                               None"
            ]
          },
          "metadata": {
            "tags": []
          },
          "execution_count": 6
        }
      ]
    },
    {
      "cell_type": "markdown",
      "metadata": {
        "id": "3J5dmyY3NnQZ"
      },
      "source": [
        "Removendo discursos sem resumos"
      ]
    },
    {
      "cell_type": "code",
      "metadata": {
        "colab": {
          "base_uri": "https://localhost:8080/"
        },
        "id": "c5cGFgrtNkvQ",
        "outputId": "e5bc1cdf-60e8-46aa-ef87-63d0b4a4d045"
      },
      "source": [
        "data_df = data_df[data_df['speech_summary'].notna()]\n",
        "data_df.info()"
      ],
      "execution_count": null,
      "outputs": [
        {
          "output_type": "stream",
          "text": [
            "<class 'pandas.core.frame.DataFrame'>\n",
            "Int64Index: 74167 entries, 0 to 74980\n",
            "Data columns (total 2 columns):\n",
            " #   Column          Non-Null Count  Dtype \n",
            "---  ------          --------------  ----- \n",
            " 0   speech          74167 non-null  object\n",
            " 1   speech_summary  74167 non-null  object\n",
            "dtypes: object(2)\n",
            "memory usage: 1.7+ MB\n"
          ],
          "name": "stdout"
        }
      ]
    },
    {
      "cell_type": "code",
      "metadata": {
        "colab": {
          "base_uri": "https://localhost:8080/"
        },
        "id": "DtleSWoqNwXh",
        "outputId": "62957baa-bbb4-465c-eed1-f06494a10b47"
      },
      "source": [
        "contraction_list = {\n",
        "    \"v\\. exa\": \"vossa excelencia\"\n",
        "    ,\"s\\. exa\": \"vossa excelencia\"\n",
        "    , \"sr\\.\": \"senhor\"\n",
        "    , \"srs\\.\": \"senhores\"\n",
        "    , \"sra\\.\": \"senhora\"\n",
        "    , \"sras\\.\": \"senhoras\"\n",
        "    , \"pag\\.\": \"pagina\"\n",
        "    , \"exm\\.\": \"excelentissimo\"\n",
        "    , \"exma\\.\": \"excelentissima\"\n",
        "}\n",
        "\n",
        "def text_cleaning(col_name, is_target=False):\n",
        "    for text in data_df[col_name]:\n",
        "        text = unidecode(text).lower()\n",
        "        for contraction in contraction_list.keys():\n",
        "            text = re.sub(contraction, contraction_list[contraction], text)\n",
        "\n",
        "        text = re.sub(r\"\\\\n|\\\\xa0\", ' ', text) # remove escape characters\n",
        "        text = re.sub(r\"[^a-z]\", ' ', text) # keep only words\n",
        "\n",
        "        if is_target:\n",
        "            text = re.sub(r\"\\b[a-z]{1,2}\\b\", ' ', text) # remove <2 characters\n",
        "\n",
        "        text = re.sub(r\"\\s+\", ' ', text) # remove extra spaces (at the end)\n",
        "        text = text.strip()\n",
        "        yield text\n",
        "\n",
        "cleaned_speech = text_cleaning('speech', is_target=True)\n",
        "cleaned_speech_summary = text_cleaning('speech_summary')\n",
        "\n",
        "nlp = spacy.load('pt_core_news_lg', disable=['tagger', 'parser', 'ner'])\n",
        "\n",
        "def remove_stopwords(doc, is_target=False):\n",
        "    if is_target:\n",
        "        corpus = [token.lemma_ for token in doc if not token.is_stop]\n",
        "    else:\n",
        "        corpus = [token.text for token in doc if not token.is_stop]\n",
        "    return ' '.join(corpus)\n",
        "\n",
        "t = time.time()\n",
        "\n",
        "corpus = [remove_stopwords(doc, is_target=True) for doc in nlp.pipe(cleaned_speech, batch_size=5000, n_threads=-1)]\n",
        "labels = [remove_stopwords(doc) for doc in nlp.pipe(cleaned_speech_summary, batch_size=5000, n_threads=-1)]\n",
        "\n",
        "print(f'Processing time: {round((time.time() - t) / 60, 2)} mins')"
      ],
      "execution_count": null,
      "outputs": [
        {
          "output_type": "stream",
          "text": [
            "Processing time: 12.53 mins\n"
          ],
          "name": "stdout"
        }
      ]
    },
    {
      "cell_type": "code",
      "metadata": {
        "colab": {
          "base_uri": "https://localhost:8080/"
        },
        "id": "iFSqVn74Ogsx",
        "outputId": "9b2a0d51-e196-443e-b360-59692e253e57"
      },
      "source": [
        "data_df['speech_clean'] = corpus\n",
        "data_df['speech_summary_clean'] = labels\n",
        "data_df['speech_summary_clean'] = data_df['speech_summary_clean'].apply(lambda summ : '_START_ '+ summ + ' _END_')\n",
        "\n",
        "for i in range(3):\n",
        "    print(\"Speech: \",data_df['speech_clean'][i])\n",
        "    print(\"Summary: \",data_df['speech_summary_clean'][i])\n",
        "    print(\"\\n\")"
      ],
      "execution_count": null,
      "outputs": [
        {
          "output_type": "stream",
          "text": [
            "Speech:  senhor paulo paim bloco pronunciar seguinte discursar revisao orador senador mozarildo cavalcanti presidir sessao senador fernando collor mello usar tribuna orador registro senhor presidente analisar detalhar importancia aprovacao senado camara projeto autista analisar fazer mediante cartar receber principal lider dizer autista pai encaminhar cartar semana sr berenice piana piana registro hoje noite estar hotel sao marcar brasilia participar solenidade posse diretoria contratuh eleito quinquenio dezembro dezembro moacyr roberto tesch atual presidente confederacao ativo participante reeleito presidencia confederacao convidar congresso nacional dezena dezena durante ano dia dezembro confederacao dar brasilia congresso nacional trabalhador turismo hospitalidade dirigente sindicar participar evento objetivo definir bandeiro contratuh defender continuar defender muito delas proximo mandatar confederacao apresentar tambem dia exposicao informativo ultimos ano janeiro dezembro fazer balanco mandatar exposicao mostrar turismo hospitalidade pego hoteleiro naturalmente trabalhar confederacao realizar contratuh completar ultimar dia novembro ano existencia fundacao ano ano entidade lutar projetos nao corporativo categoria tambem interessar nacional trabalhador visto valorizacao trabalhador aposentar pensionista insercao capacitacao trabalhador mercar trabalhar naturalmente turismo hospitalidade contratuh mostrar tambem atento questoes nacional ser parceiro lutar valorizacao beneficios aposentar pensionista lutar fator previdenciario lamentavelmente camara encolher pressao executivo jogar votacao ano lutar igualdade racial lutar fortalecer clt frente nacional defeso trabalhador clt coordenar principalmente ano clt completar ano entao cumprimentar diretoria contratuh pessoa presidente moacyr tesch trabalhar realizar atar merecer cumprimento desejar sucesso caminhar combativo confederacao nacional trabalhador ter trabalhar frente registrar senhor presidente nao nao enaltecer nao fortalecer nao comentar tribuna aprovacao casar tres projetos semana comeco deles aprovacao projeto permitir sucessao familiar servico taxi autoria senador expedito junior relatoria competente senador renan calheiros projeto haver ser aprovar senado outubro acompanhar projeto passar passar encaminhar camara retornar senado substitutivo aprovar unanimidade comissao assunto social relatorio renan calheiros vir entao plenario liderar partir projeto tera considerar justica taxista passar direito enfim formal legal deles citar novamente começar movimentar projeto cercar ano receber cartar taxista portar alegrar dizer trabalhar taxi pai filhar pai morrer concessao nao ficar familia familia ficar pai fonte recurso sustentacao filhar ficar desempregar cartar mexer dizer coracao almo mentir dedicar exaustivamente projeto ser aprovar agradeco numerar mail correspondencias receber brasil cumprimentar naturalmente senador expedito junior senador renan calheiros relator senador excelencia senador mozarildo cavalcanti ajudar aprovacao projeto sucessao justo ficar feliz proposto aprovar esperar sera sancionar cumprimento taxista brasil lei passar legalizar patrimonio patrimonio instrumentar trabalhar normalmente passar pai filhar alguem titular entender dever passar outro temer nao deixar comentar plc executivo criar cargo defensor publicar uniao variar vir tribuna defender categoria fazer inumeras audiencias publicar defender criacao vago numerar defensor publicos insuficiente atender demandar defensor publicar defender pobre tinhamos numerar insignificante defensor publicos brasil inumeras audiencias publicar muito mobilizacao enfim projeto chegar casar aprovar casar unanimidade cargo ser efetivados pessoa carente agradecer sao necessitar pai bater palmar precisar contar devido orientacao juridica trabalhar defensor publicar parabens defensor publicos senador mozarildo excelencia acompanhar debater hoje realidade reunir inumeras comissao direito humano excelencia comissao assunto social excelencia excelencia participar sentir jovem jovem querer exercer profissao ser concursados passar defender enfim apelar deles ouvir hoje poder ano estarao colocar pai defender gente senador mozarildo pronunciamento fundir autista excelencia participar tambem citar excelencia nao presidencia excelencia membro ativo comissao direito humano comissao assunto social excelencia acompanhar processar muito cartar autista pedir haver politicar nacional autista cartar receber principalmente sr berenice piana piana claro mexer comigo trazer plenario levar comissao direito humano levar comissao assunto social enfim projeto surgir construido frutar proprios autista familiar entrar projeto emendar popular dizer comissao direito humano legislacao participativo permitir autista entrar proposto acatar proposto comissao direito humano passar tramitar casar hoje realidade gracas deus passar ler cartar sao liderar comecou lutar senado conosco hoje projeto aprovar mao presidente sancao ler cartar receber dia berenice piana coordenador movimentar exmo senador paulo paim sta cartar diferente muito escrever autismo brasii divulgar falar referir tanto cartar enviar relatar situacao autista brasil ausencia politicar publicar pessoa nao continuar querer destinar historiar terminar mesmo pessoa comecou ser dizer coordenador excelencia tres ano lembrar detalhar palavra faco historico tao feliz instituir politicar nacional protecao direito pessoa transtornar espectro autista aprovar finalmente plenario senado federar titulo merecido comemoracao merecer comemoracao estar fazer brasil dia pedir predios ser iluminar luzir azul agostar assistir senado esperanca sentir vontade politicar algum senador discursar convencer poder apresentar projeto casar surgir entao tela excelencia senador paim falar cezar pássaro cantor nativista partir trotezito querenciar eterno palavra pradaria ceu ficar comovido homenagem perceber adiantar falir guri calcar curto comecou vidar fazer cursar senac ajudar feirar livrar portar alegrar alguem nao renegar origem mantar fiel raizes olhar franco direto decidir entao procurar tentativo convencer parlamentar parlamentar brasileiro olhar causar causar filho autismo situacao autista tratamento partir coracao dia conhecer caso dor extremo caso agravar precisar urgente brasil inteirar surpreso obter respostar imediato propor audiencia publicar colocar disposicao assessorar assessoria senado gabinete comissao orientacao nao entender importancia audiencias publicar palavra jamais esquecer sr berenice voces ir possivel voce dizer autista palavra lindo ouvir selar destinar autista brasileiro dia novembro relatar descrever acompanhar passar passar acontecer entao audiencia publicar senado federal comissao direito humano legislacao participativo conhecer companheiro ulisses costa baptista pai rafael autista vir lutar juntar comigo daqui frente audiencia pai incrivel ter historiar lutar rir janeiro unir forcar acabar mobilizar brasil prol causar causar audiencia historica vir muito brasil varios estar municipios saimos promessa levar adiantar projeto lei federal sonhar sonhar imediatamente reunir companheiro comecamos escrever lei casar itaborai rir janeiro variar reunioes feito projeto ser pensar aperfeicoado passar passar amplo assessoria senado perder contar quanto ligar gabinete senhor senador pedir orientacao tratar respeitar cordialidade lisura paciencia amizade excelencia senador citar nome excelencia tambem funcionarios senado marcar partir brasilia sonhar tornar realidade protocolar dia sentir util cidada brasileiro exercer direito vivo nao passagem mundo recordar esperanca temor lembrar muito ficar surdo tentar desanimar dizer promessa politicar nao acreditar chegariamos estar projeto comecou tramitar votacao cdh dar exatamente dia falecimento saudoso jose alencar viçar presidente republicar tambem apoiar autista caro senador memoriar palavra ficarao registrar historiar lei lembrar nao haver quorum senador estar funeral querer viçar presidente temiamos adiamento vesperas dia abril dia mundial conscientizacao autismo excelencia falar presidencia comissao daqui nao sair homenagear viçar presidente jose alencar ser velar hoje rir janeiro permanecer atar ultimar senador apareca votar preparar passar noite precisar daqui nao sair atar comparecam votar familias pessoa autismo merecer respeitar nao esperar haver senador voltar despois velorio vir votar senador mozarildo dar lembrar senador palavra comover atar lagrimas fazer crer acreditar acontecer chegar senador voltar minar estar missao nobre votacao acontecer vitoriar semana seguinte passar cas seguir plenario cobrir esperanca lembrar relatorio senador ana rita tambem agradecer seguir entao camara deputar precisar esforco redobrar atraves mail mobilizacao telefonema viagem vencer passar passar etapa etapa comissao comissao atar chegar maos deputar mara gabrilli sofrer pequeno alteracao sintonia parabens deputar mara movimentar ganhar brasil movimentar comecou pessoa agigantar atraves facebook mail palestrar conferenciar caminhar entrevisto audiencias publicar rede social naturalmente fernando cotta movimentar orgulhar autista brasilia aliar vinhamos trabalhar comecou cuidar zelar projeto ir lugar muito casar ulisses nao podiamos percorrer gabinete argumentar importancia nao retardar votacao nao alterar atender rapidez familias tao carente tratamento adequar companheiro permanecer juntar garr determinacao fibra atar corajoso jamais esmorecer jamais desanimar enfim projeto aprovar camara comissoes amplo mobilizacao deputar hugo leal deputar mara gabrilli rosa adefal voltar braco origem senado federal cdh comecou sentir vontade estavamos casar casar nao estranho imediatamente surgir senador lindbergh fazer assumir relatoria dar parecer favoravel abrancando conosco fazer causar justo belo aprovar cas unanimidade emendar seguir comissao cdh senador wellington dia pego relatoria coracoes ansioso articular executivo nao vetar senador aprovar unanimidade emendar seguir plenario maos abencoadas caro senador paim nascer juntar conosco projeto beneficiar milhoes familias milhoes coracoes projeto percalcos historiar lindo historiar tornar lei pôr berenice piana piana alar companheiro ulisses fernando cotta tanto herois anonimos pai estar ver brasil conhecer autismo falar autismo brasil inesquecivel audiencia publicar originar atitude senador inspirar atitude caro senador itaborai rir janeiro cidade brasileiro iei especificar autista lei berenice piana homenagem receber camara vereador inspirar audiencia publicar dia cdh senado presidencia presenca voltar redondo rir janeiro sancionar seguir quase dia tambem inspirar trabalhar senado pontar grosso parana cidade rir bonito rir janeiro fraiburgo santo catarino semear dar frutar estar olhendo trabalhar gente plantar estar ver flor trigar amarelar campo crescer fruto nao parir nascer respeitar senador prestar figurar senado hoje homenagem sincero nome milhoes brasileiro nao cansar festejar cantar chorar vitoriar congresso nacional tornar lei acordar sentir homem justar decidir semelhante acreditar nisso conduzir intentar honestidade firmeza garro determinacao homem vencer homem vencedor mensagem deixar homem mulher levar vencer seguir seguir causar homem excelencia tanto fazer cruzar conosco orgulhar chamar amigar contato lutar ideal dedicar vidar autista brasileiro dedicar restar dela deus der vidar saude completar frase caro senador extrair nao conheco hino riograndense paixao hino rir senador servir facanhas terra historiar lei abracos fraterno berenice piana piana mae dayan ano autista berenice piana piana lei muito cidade dar nome berenice piana piana tera simbologia lutar tambem lei federal nome berenice piana piana voce assistir mim tribuna amigo voce merecer autista merecer terminar claro emocao conter senador mozarildo presidir sessao olhar pensar nao chorar entao descontracao querido berenice lei chamar berenice piana piana\n",
            "Summary:  _START_ destaque a aprovacao senado federal projeto protege direitos pessoa transtorno espectro autista e assuntos _END_\n",
            "\n",
            "\n",
            "Speech:  sr angela portela bloco pronunciar seguinte discursar revisao orador senhor presidente senhor senador sr senador manifestacoes ultimar semana ocorrer pai traduzir natural desejar participacao jovem brasileiro extremo importancia extremo relevancia senado federal participacao importante considerar hoje reuniao presidente senado renan calheiros liderancas governar oposicao tambem estao preocupar inserir pautar congresso nacional reivindicacoes apontar populacao nessas manifestacoes assolar brasil inteirar senhor presidente dever ouvir voz ruir dever conduzir dialogar trocar experiencias mudancas proposto populacao nessas manifestacoes brasil partir nascer compreensao justo aspiracoes brasileiro crescer ano governar partir trabalhador presidente lula presidente dilma rousseff realizar movimentar inclusao social viver brasil espaco milhoes brasileiro passar integrar classe medir hoje representar populacao atual governar milhoes brasileiro deixar pobreza extremo gracas seriar iniciativo dentre citar brasil miseria programar extremo importancia mostrar vontade intenso presidente dilma acabar miseria pai prever constatar exito notavel processar inclusao demandar surgir previsivel cobranca servicos publicos qualidade justamente estrato social incorporar classe medir previsivel tambem ansiar participacao processar decisorio dimensao manifestacoes ruir surpreender nao aspiracoes dela participar constituir decorrencia processar historico viver origem politicar inclusao social principal bandeiro partir gostar observar proposito tambem roraima manifestacoes ganhar ruir cobrar seriar medir relevante populacao manifestante reclamar manha hoje afastamento governador anchieta roraima representativo dirigir assembleia legislativo pedir deputar estadual impeachment governador sessao entao parar nao prosseguir atar ambito roraima respostar dar manifestacao reivindicacoes apontar numerar elevar pessoa tambem querer participar protestar nacional melhoria condicoes vidar melhorar transporte coletivos educacao melhor qualidade enfim pautar conhecimento senador senador posturar ver roraima posicionamento autoridade governante diferente adotada governar presidente dilma presidente dilma rousseff compreender extensao importancia movimentar popular pronunciamento semana passar redar nacional radiar nao advertir impossibilidade conviver vandalismo violencia formular seriar proposto coadunar historico destacar abertura dialogar presidente chamar converso diretas representante movimento participar manifestacoes ruir sentar dialogar manter diverso encontro disposto ouvir reivindicacoes popular reunir governador unidade federacao alar prefeito principal cidade pai formular pacto pacto constar verdadeiro reformar institucional destinar aproximar nacao verdadeiro movimentar renovacao politicar institucional partir plebiscitar autorizar convocacao assembleia constituinte especificar plebiscitar central pacto proposto presidente classe politicar respostar brasileiro clamar mudancas social presidente brasil madurar avancar deixar claro nao ficar parar avancar progredir seguir frente reformar politicar dever ampliar participacao popular cidadania saber combater corrupcao constituir bandeiro historica partir propria presidente dilma historiar continuar fazer lutar corrupcao constar tambem proposto presidente tipificar corrupcao crime hediondo justar dinheiro publicar desviar senhor presidente significar dinheiro educacao abrir portar futurar criancas significar dinheiro tambem saude representar dor morte populacao presidente enfrentamento corrupcao contundente iniciativo fundamental criar legislacao classificar corrupcao doloso equivalente crime hediondo tambem incluir pacto avanco area saude dilma governador acelerar investimento contratar hospital unidade pronto atendimento unidade basicas saude sentir nao haver disponibilidade medicos brasileiro presidente desejar contratar profissional estrangeiro trabalhar exclusividade unico saude desejar destacar dizer presidente nao tratar medir hostil desrespeitoso profissional tratar acao emergencial localizar ter visto dificuldade estar enfrentar encontrar medicos numerar suficiente disposicao trabalhar areas remoto pai bandeiro inicial manifestacoes marcar pai saltar qualidade transportar publicar tambem essencial pacto propor presidente governar federal dever destinar milhoes investimento obrar mobilidade urbano pretender avancar rapido direcao transportar publicar qualidade acessivel alar sera ampliar desoneracao pi cofins diesel auxiliar controlo tarifar reuniao governador prefeito presidente dilma destacar precisar cuidar melhor educacao reconhecer reconhecer ampliacao acesso educacao valorizacao profissional exigir recurso sentir lembrar proposto partir soer campainha sr angela portela bloco concluir senhor presidente sentir lembrar proposto partir dela propria royalties petroleo recurso pre sal ser investir educacao projeto tramitar legislativo urgencia constitucional caber parlamentar aprovar espaco possivel senhor presidente inspirador constatar populacao brasileiro ruir diversificar agendar reivindicacoes dever tambem reconhecer atender reivindicacoes populacao constituir desafiar dever altura dele senhor presidente\n",
            "Summary:  _START_ satisfacao a postura governo federal frente manifestacoes populares _END_\n",
            "\n",
            "\n",
            "Speech:  senhor jayme campo bloco minoria dem pronunciar seguinte discursar revisao orador senhor presidente sr senhor senador manha hoje redar record televisao veicular importantissima reportagem violencia domesticar denunciar tragica situacao viver hoje milhar mulher brasileiro refens submissao imposto dependencia financeiro seguir vitimar calar sofrer sortir agressoes violencias contar lei maria penha diplomar potencialmente eficaz punicao agressor muito dessar mulher continuar amarrar grilhoes sofrimento nao ter autonomia financeiro capacitacao profissional lhe permitir custear sustentar algozar vir oferecer efetiva garantir protecao numerar mulher agredir imperioso instituir politicar publicar libertar riscar desamparar economico abril apresentar casar pls criar fundir nacional amparar mulher agredir destinar financiar ajudar pecuniaria treinamento profissional mulher razao violencia domesticar separar conjuges companheiro ajudar pecuniaria previsto dever pago durante consecutivo treinamento objetivo facilitar recolocacao mulher mercar trabalhar indicar fonte custear ocorrer senhor presidente promissor projeto autoria encontrar literalmente parar camara deputar ano senado discutir comissoes aprovar terminativamente camara receber autografar comeco ano passar permanecer atar hoje silente horar mulher assassinar brasil dar ministerio justica ano servico central atendimento mulher receber denunciar violencia deputar erika kokay distrito federal nomear relator comissao seguridade social familia displicentemente esquecido preparar apresentar relatorio colegiado materia poder seguir tramitacao reportagem referir sr senhor senador levar manha hoje procurar ilustrar relator infeliz explicacao deputar basear suposto tentativo aprimorar projeto melhor intencoes tardio sentir aperfeicoar proposicao saber alteracoes eventualmente aprovar camara farao materia retornar casar origem ser senado federal significar protelar aprovacao faco apelar senso faco nome caro capiberibe urgencia solucionar atual quadrar espancamento assassinato mulher agravar perverso esperar presidente republicar sancionar proposto camara concluir tramitacao senhor presidente chefe executivo qualidade mulher estadista nao furtar dever propiciar mulher brasileiro importante instrumentar protecao nao ser autoria projeto vontade politicar havera sobrepor interesse vaidade contabilidade partidaria insistir monopolizar criacao programar acoes social ficar registrar apelar indignacao esperanca ir viabilizar rapidamente fundir nacional amparar mulher agredir sociedade ganhar emancipacao ganhar mulher ganhar governar ganhar nacao democratico direito nesses tempo tanto desmando rogar deus imperio lei ordem poder conduzir brasil justar solidario ter sr presidente sr senhor senador\n",
            "Summary:  _START_ apelo sentido aprovacao camara deputados projeto autoria excelencia cria o fundo nacional amparo a mulheres agredidas _END_\n",
            "\n",
            "\n"
          ],
          "name": "stdout"
        }
      ]
    },
    {
      "cell_type": "markdown",
      "metadata": {
        "id": "vFjozuJUOI-T"
      },
      "source": [
        "## Análise dos dados"
      ]
    },
    {
      "cell_type": "code",
      "metadata": {
        "colab": {
          "base_uri": "https://localhost:8080/",
          "height": 332
        },
        "id": "QYFldZXHN4m1",
        "outputId": "170bb2b5-309c-4b83-fea0-4890db494ba9"
      },
      "source": [
        "data_df['speech_word_freq'] = data_df['speech_clean'].apply(lambda x : len(x.split()))\n",
        "data_df['summary_word_freq'] = data_df['speech_summary_clean'].apply(lambda x : len(x.split()))\n",
        "data_df[['speech_word_freq', 'summary_word_freq']].hist(bins = 30)"
      ],
      "execution_count": null,
      "outputs": [
        {
          "output_type": "execute_result",
          "data": {
            "text/plain": [
              "array([[<matplotlib.axes._subplots.AxesSubplot object at 0x7f00cfcaf438>,\n",
              "        <matplotlib.axes._subplots.AxesSubplot object at 0x7f00cfc2f710>]],\n",
              "      dtype=object)"
            ]
          },
          "metadata": {
            "tags": []
          },
          "execution_count": 10
        },
        {
          "output_type": "display_data",
          "data": {
            "image/png": "[encoded data removed]",
            "text/plain": [
              "<Figure size 432x288 with 2 Axes>"
            ]
          },
          "metadata": {
            "tags": [],
            "needs_background": "light"
          }
        }
      ]
    },
    {
      "cell_type": "code",
      "metadata": {
        "colab": {
          "base_uri": "https://localhost:8080/"
        },
        "id": "40LOajGl9Qw0",
        "outputId": "73231527-5202-48d5-b1ec-5b332c66c572"
      },
      "source": [
        "print(f\"Stats of words in speech: \\n{data_df['speech_word_freq'].describe()}\")\n",
        "print(f\"Stats of words in  summary: \\n{data_df['summary_word_freq'].describe()}\")"
      ],
      "execution_count": null,
      "outputs": [
        {
          "output_type": "stream",
          "text": [
            "Stats of words in speech: \n",
            "count    74167.000000\n",
            "mean       766.029488\n",
            "std        690.937547\n",
            "min          2.000000\n",
            "25%        311.000000\n",
            "50%        613.000000\n",
            "75%       1043.000000\n",
            "max      18209.000000\n",
            "Name: speech_word_freq, dtype: float64\n",
            "Stats of words in  summary: \n",
            "count    74167.000000\n",
            "mean        17.330443\n",
            "std          9.893072\n",
            "min          2.000000\n",
            "25%         11.000000\n",
            "50%         15.000000\n",
            "75%         21.000000\n",
            "max        225.000000\n",
            "Name: summary_word_freq, dtype: float64\n"
          ],
          "name": "stdout"
        }
      ]
    },
    {
      "cell_type": "code",
      "metadata": {
        "colab": {
          "base_uri": "https://localhost:8080/"
        },
        "id": "aBUOVTw9RAzQ",
        "outputId": "28f08448-77df-4f0c-e0e2-d11a99fef587"
      },
      "source": [
        "corpus_array = [doc.split() for doc in data_df['speech_clean']]\n",
        "corpus_summ = [doc.split() for doc in data_df['speech_summary_clean']]\n",
        "corpus_array.extend(corpus_summ)\n",
        "\n",
        "word_frequency = defaultdict(int)\n",
        "for sentence in corpus_array:\n",
        "    for word in sentence:\n",
        "        word_frequency[word] += 1\n",
        "print(f\"Vocabulary present in corpus: {len(word_frequency)}\")\n",
        "print(\"Most frequent words in corpus:\")\n",
        "sorted(word_frequency, key=word_frequency.get, reverse=True)[:15]"
      ],
      "execution_count": null,
      "outputs": [
        {
          "output_type": "stream",
          "text": [
            "Vocabulary present in corpus: 151435\n",
            "Most frequent words in corpus:\n"
          ],
          "name": "stdout"
        },
        {
          "output_type": "execute_result",
          "data": {
            "text/plain": [
              "['nao',\n",
              " 'senhor',\n",
              " 'senador',\n",
              " 'presidente',\n",
              " 'excelencia',\n",
              " 'ser',\n",
              " 'governar',\n",
              " 'brasil',\n",
              " 'ano',\n",
              " 'brasileiro',\n",
              " 'pai',\n",
              " 'tambem',\n",
              " 'sao',\n",
              " 'estar',\n",
              " 'ter']"
            ]
          },
          "metadata": {
            "tags": []
          },
          "execution_count": 14
        }
      ]
    },
    {
      "cell_type": "code",
      "metadata": {
        "colab": {
          "base_uri": "https://localhost:8080/"
        },
        "id": "6sslh0kK9VlN",
        "outputId": "b89ba41e-231f-42f7-8032-33b7dbfee404"
      },
      "source": [
        "first_percetile = data_df['speech_word_freq'].quantile(0.01)\n",
        "last_percetile = data_df['speech_word_freq'].quantile(0.99)\n",
        "data_df = data_df[(data_df['speech_word_freq'] > first_percetile)] \n",
        "data_df = data_df[(data_df['speech_word_freq'] < last_percetile)]\n",
        "\n",
        "print(f\"Removing outliers out less than {first_percetile} words and more than {last_percetile} words\")\n",
        "print(f\"Dataset size: {data_df.shape}\")"
      ],
      "execution_count": null,
      "outputs": [
        {
          "output_type": "stream",
          "text": [
            "Removing outliers out less than 47.0 words and more than 3035.6999999999825 words\n",
            "Dataset size: (72651, 6)\n"
          ],
          "name": "stdout"
        }
      ]
    },
    {
      "cell_type": "code",
      "metadata": {
        "colab": {
          "base_uri": "https://localhost:8080/"
        },
        "id": "mySMh9saVIFn",
        "outputId": "d9d2bf38-c659-4b17-8d6b-200b9bd69945"
      },
      "source": [
        "print(f\"Stats of words in speech: \\n{data_df['speech_word_freq'].describe()}\")\n",
        "print(f\"Stats of words in  summary: \\n{data_df['summary_word_freq'].describe()}\")"
      ],
      "execution_count": null,
      "outputs": [
        {
          "output_type": "stream",
          "text": [
            "Stats of words in speech: \n",
            "count    72651.000000\n",
            "mean       736.796548\n",
            "std        550.214854\n",
            "min         48.000000\n",
            "25%        318.000000\n",
            "50%        613.000000\n",
            "75%       1033.000000\n",
            "max       3034.000000\n",
            "Name: speech_word_freq, dtype: float64\n",
            "Stats of words in  summary: \n",
            "count    72651.000000\n",
            "mean        17.340546\n",
            "std          9.843429\n",
            "min          2.000000\n",
            "25%         11.000000\n",
            "50%         15.000000\n",
            "75%         21.000000\n",
            "max        225.000000\n",
            "Name: summary_word_freq, dtype: float64\n"
          ],
          "name": "stdout"
        }
      ]
    },
    {
      "cell_type": "markdown",
      "metadata": {
        "id": "cIQozc-jRvtq"
      },
      "source": [
        "Salvando textos de discurso e resumos limpos"
      ]
    },
    {
      "cell_type": "code",
      "metadata": {
        "id": "C7HJtnDPRX7R"
      },
      "source": [
        "data_df.to_csv('/content/drive/My Drive/Colab Notebooks/discursos_clean.csv', index=False)"
      ],
      "execution_count": null,
      "outputs": []
    },
    {
      "cell_type": "markdown",
      "metadata": {
        "id": "IqLfHCJtSOUw"
      },
      "source": [
        "## Construção do Word Embedding"
      ]
    },
    {
      "cell_type": "code",
      "metadata": {
        "colab": {
          "base_uri": "https://localhost:8080/"
        },
        "id": "i1x3honRSBs0",
        "outputId": "92ea8aed-eb51-4cfa-8868-c56489ab984c"
      },
      "source": [
        "data_df = pd.read_csv('/content/drive/My Drive/Colab Notebooks/discursos_clean.csv')\n",
        "data_df.info()"
      ],
      "execution_count": null,
      "outputs": [
        {
          "output_type": "stream",
          "text": [
            "<class 'pandas.core.frame.DataFrame'>\n",
            "RangeIndex: 72651 entries, 0 to 72650\n",
            "Data columns (total 6 columns):\n",
            " #   Column                Non-Null Count  Dtype \n",
            "---  ------                --------------  ----- \n",
            " 0   speech                72651 non-null  object\n",
            " 1   speech_summary        72651 non-null  object\n",
            " 2   speech_clean          72651 non-null  object\n",
            " 3   speech_summary_clean  72651 non-null  object\n",
            " 4   speech_word_freq      72651 non-null  int64 \n",
            " 5   summary_word_freq     72651 non-null  int64 \n",
            "dtypes: int64(2), object(4)\n",
            "memory usage: 3.3+ MB\n"
          ],
          "name": "stdout"
        }
      ]
    },
    {
      "cell_type": "code",
      "metadata": {
        "colab": {
          "base_uri": "https://localhost:8080/"
        },
        "id": "oposqBQ7We3G",
        "outputId": "0fffbaee-6d9e-4a55-b119-42535f60e7bf"
      },
      "source": [
        "corpus_array = [doc.split() for doc in data_df['speech_clean']]\n",
        "corpus_summ = [doc.split() for doc in data_df['speech_summary_clean']]\n",
        "corpus_array.extend(corpus_summ)\n",
        "print(f\"Size of corpus of all text: {len(corpus_array)}\")"
      ],
      "execution_count": null,
      "outputs": [
        {
          "output_type": "stream",
          "text": [
            "Size of corpus of all text: 145302\n"
          ],
          "name": "stdout"
        }
      ]
    },
    {
      "cell_type": "code",
      "metadata": {
        "colab": {
          "base_uri": "https://localhost:8080/"
        },
        "id": "vzUzX3XOSv6h",
        "outputId": "0e806810-ba6d-466f-f57b-7f8e459d3057"
      },
      "source": [
        "w2v_model = Word2Vec(\n",
        "    min_count=10\n",
        "    , window=15\n",
        "    , size=100\n",
        "    , workers=4\n",
        "    , compute_loss=True\n",
        ")\n",
        "\n",
        "t = time.time()\n",
        "w2v_model.build_vocab(\n",
        "    corpus_array\n",
        "    , progress_per=10000)\n",
        "print('Time to build vocab: {} mins'.format(round((time.time() - t) / 60, 2)))\n",
        "\n",
        "t = time.time()\n",
        "w2v_model.train(\n",
        "    corpus_array\n",
        "    , total_examples=w2v_model.corpus_count\n",
        "    , epochs=15\n",
        "    , report_delay=1)\n",
        "print('Time to train the model: {} mins'.format(round((time.time() - t) / 60, 2)))\n",
        "\n",
        "print(f\"Size of corpus: {w2v_model.corpus_count}\")\n",
        "print(f\"Number of words in vocabulary: {len(w2v_model.wv.vectors)}\")"
      ],
      "execution_count": null,
      "outputs": [
        {
          "output_type": "stream",
          "text": [
            "Time to build vocab: 0.3 mins\n",
            "Time to train the model: 20.88 mins\n",
            "Size of corpus: 145302\n",
            "Number of words in vocabulary: 42847\n"
          ],
          "name": "stdout"
        }
      ]
    },
    {
      "cell_type": "code",
      "metadata": {
        "colab": {
          "base_uri": "https://localhost:8080/"
        },
        "id": "_94iK3KyS1M6",
        "outputId": "9697b7dc-6fa9-4458-c086-13a63da006b3"
      },
      "source": [
        "w2v_model.wv.most_similar('pt')"
      ],
      "execution_count": null,
      "outputs": [
        {
          "output_type": "stream",
          "text": [
            "/usr/local/lib/python3.6/dist-packages/gensim/matutils.py:737: FutureWarning: Conversion of the second argument of issubdtype from `int` to `np.signedinteger` is deprecated. In future, it will be treated as `np.int64 == np.dtype(int).type`.\n",
            "  if np.issubdtype(vec.dtype, np.int):\n"
          ],
          "name": "stderr"
        },
        {
          "output_type": "execute_result",
          "data": {
            "text/plain": [
              "[('partido', 0.6495768427848816),\n",
              " ('democratas', 0.6384907960891724),\n",
              " ('petistas', 0.5904338359832764),\n",
              " ('tesoureiro', 0.5891529321670532),\n",
              " ('partir', 0.5829651355743408),\n",
              " ('teria', 0.555338442325592),\n",
              " ('candidata', 0.5511517524719238),\n",
              " ('tucana', 0.5367202758789062),\n",
              " ('pefelistas', 0.5365556478500366),\n",
              " ('oposicao', 0.5362462401390076)]"
            ]
          },
          "metadata": {
            "tags": []
          },
          "execution_count": 8
        }
      ]
    },
    {
      "cell_type": "markdown",
      "metadata": {
        "id": "lHuE1_aMTSQQ"
      },
      "source": [
        "Salvando o modelo Word2Vec treinado para a base de discursos e resumos"
      ]
    },
    {
      "cell_type": "code",
      "metadata": {
        "id": "ydD-60vQS0nE"
      },
      "source": [
        "w2v_model.init_sims(replace=True)\n",
        "w2v_model.save(fname_or_handle = \"word2vec.model\")"
      ],
      "execution_count": null,
      "outputs": []
    },
    {
      "cell_type": "markdown",
      "metadata": {
        "id": "7V_T4a2NUGhC"
      },
      "source": [
        "## Fase de treinamento do Modelo"
      ]
    },
    {
      "cell_type": "code",
      "metadata": {
        "id": "WyhlfbCiUTKE"
      },
      "source": [
        "w2v_model = Word2Vec.load(\"word2vec.model\")\n",
        "data_df = pd.read_csv('/content/drive/My Drive/Colab Notebooks/discursos_clean.csv')\n",
        "data_df.info()"
      ],
      "execution_count": null,
      "outputs": []
    },
    {
      "cell_type": "code",
      "metadata": {
        "id": "D5-MVECkS0bB"
      },
      "source": [
        "word_index = speech_tokenizer.word_index\n",
        "\n",
        "embedding_matrix = np.zeros((x_voc_size, 100))\n",
        "oov_count = 0\n",
        "for word, i in word_index.items():\n",
        "    try:\n",
        "        embedding_matrix[i] = w2v_model.wv.word_vec(word)\n",
        "    except Exception as e:\n",
        "        oov_count += 1\n",
        "        print(e)\n",
        "print(f\"Out of Vocabulary count: {oov_count}\")"
      ],
      "execution_count": null,
      "outputs": []
    },
    {
      "cell_type": "code",
      "metadata": {
        "id": "mpvxwx9yWr18"
      },
      "source": [
        "x_train, x_test, y_train, y_test = train_test_split(\n",
        "    data_df['speech_clean']\n",
        "    , data_df['speech_summary_clean']\n",
        "    , test_size=0.2\n",
        "    , random_state=42\n",
        "    , shuffle=True)"
      ],
      "execution_count": null,
      "outputs": []
    },
    {
      "cell_type": "code",
      "metadata": {
        "colab": {
          "base_uri": "https://localhost:8080/"
        },
        "id": "8i7xI4nHYY8h",
        "outputId": "b2e10a70-4fe2-4c82-8a52-e7f446a4784b"
      },
      "source": [
        "speech_tokenizer = Tokenizer()\n",
        "speech_tokenizer.fit_on_texts(list(x_train))\n",
        "speech_max_len = 610\n",
        "\n",
        "x_train = speech_tokenizer.texts_to_sequences(x_train)\n",
        "x_train = pad_sequences(x_train,  maxlen=speech_max_len, padding='post')\n",
        "\n",
        "x_test = speech_tokenizer.texts_to_sequences(x_test)\n",
        "x_test = pad_sequences(x_test, maxlen=speech_max_len, padding='post')\n",
        "\n",
        "x_voc_size = len(speech_tokenizer.word_index) + 1\n",
        "print(f\"Size of speeches vocabulary size: {x_voc_size}\")\n",
        "print(f\"Shape of train vector: {x_train.shape}\")"
      ],
      "execution_count": null,
      "outputs": [
        {
          "output_type": "stream",
          "text": [
            "122983\n",
            "(58140, 610)\n"
          ],
          "name": "stdout"
        }
      ]
    },
    {
      "cell_type": "code",
      "metadata": {
        "colab": {
          "base_uri": "https://localhost:8080/"
        },
        "id": "e8rJHZlvYe5L",
        "outputId": "de2c0692-d66b-4311-8e7d-ca7fd7f5ef1c"
      },
      "source": [
        "summary_tokenizer = Tokenizer()\n",
        "summary_tokenizer.fit_on_texts(list(y_train))\n",
        "summary_max_len = 15\n",
        "\n",
        "y_train = summary_tokenizer.texts_to_sequences(y_train)\n",
        "y_train = pad_sequences(y_train, maxlen=summary_max_len, padding='post')\n",
        "\n",
        "y_test = summary_tokenizer.texts_to_sequences(y_test)\n",
        "y_test = pad_sequences(y_test, maxlen=summary_max_len, padding='post')\n",
        "\n",
        "y_voc_size = len(summary_tokenizer.word_index) + 1\n",
        "print(f\"Size of summary vocabulary size: {y_voc_size}\")\n",
        "print(f\"Shape of target train vector: {y_train.shape}\")"
      ],
      "execution_count": null,
      "outputs": [
        {
          "output_type": "stream",
          "text": [
            "30044\n",
            "(58140, 15)\n"
          ],
          "name": "stdout"
        }
      ]
    },
    {
      "cell_type": "markdown",
      "metadata": {
        "id": "yqCQZYebX5hE"
      },
      "source": [
        "Implementação do Bahdanau Attention"
      ]
    },
    {
      "cell_type": "code",
      "metadata": {
        "id": "0He_KsEpgIdS"
      },
      "source": [
        "class AttentionLayer(Layer):\n",
        "    \"\"\"\n",
        "    This class implements Bahdanau attention (https://arxiv.org/pdf/1409.0473.pdf).\n",
        "    There are three sets of weights introduced W_a, U_a, and V_a\n",
        "     \"\"\"\n",
        "\n",
        "    def __init__(self, **kwargs):\n",
        "        super(AttentionLayer, self).__init__(**kwargs)\n",
        "\n",
        "    def build(self, input_shape):\n",
        "        assert isinstance(input_shape, list)\n",
        "        # Create a trainable weight variable for this layer.\n",
        "\n",
        "        self.W_a = self.add_weight(name='W_a',\n",
        "                                   shape=tf.TensorShape((input_shape[0][2], input_shape[0][2])),\n",
        "                                   initializer='uniform',\n",
        "                                   trainable=True)\n",
        "        self.U_a = self.add_weight(name='U_a',\n",
        "                                   shape=tf.TensorShape((input_shape[1][2], input_shape[0][2])),\n",
        "                                   initializer='uniform',\n",
        "                                   trainable=True)\n",
        "        self.V_a = self.add_weight(name='V_a',\n",
        "                                   shape=tf.TensorShape((input_shape[0][2], 1)),\n",
        "                                   initializer='uniform',\n",
        "                                   trainable=True)\n",
        "\n",
        "        super(AttentionLayer, self).build(input_shape)  # Be sure to call this at the end\n",
        "\n",
        "    def call(self, inputs, verbose=False):\n",
        "        \"\"\"\n",
        "        inputs: [encoder_output_sequence, decoder_output_sequence]\n",
        "        \"\"\"\n",
        "        assert type(inputs) == list\n",
        "        encoder_out_seq, decoder_out_seq = inputs\n",
        "        if verbose:\n",
        "            print('encoder_out_seq>', encoder_out_seq.shape)\n",
        "            print('decoder_out_seq>', decoder_out_seq.shape)\n",
        "\n",
        "        def energy_step(inputs, states):\n",
        "            \"\"\" Step function for computing energy for a single decoder state \"\"\"\n",
        "\n",
        "            assert_msg = \"States must be a list. However states {} is of type {}\".format(states, type(states))\n",
        "            assert isinstance(states, list) or isinstance(states, tuple), assert_msg\n",
        "\n",
        "            \"\"\" Some parameters required for shaping tensors\"\"\"\n",
        "            en_seq_len, en_hidden = encoder_out_seq.shape[1], encoder_out_seq.shape[2]\n",
        "            de_hidden = inputs.shape[-1]\n",
        "\n",
        "            \"\"\" Computing S.Wa where S=[s0, s1, ..., si]\"\"\"\n",
        "            # <= batch_size*en_seq_len, latent_dim\n",
        "            reshaped_enc_outputs = K.reshape(encoder_out_seq, (-1, en_hidden))\n",
        "            # <= batch_size*en_seq_len, latent_dim\n",
        "            W_a_dot_s = K.reshape(K.dot(reshaped_enc_outputs, self.W_a), (-1, en_seq_len, en_hidden))\n",
        "            if verbose:\n",
        "                print('wa.s>',W_a_dot_s.shape)\n",
        "\n",
        "            \"\"\" Computing hj.Ua \"\"\"\n",
        "            U_a_dot_h = K.expand_dims(K.dot(inputs, self.U_a), 1)  # <= batch_size, 1, latent_dim\n",
        "            if verbose:\n",
        "                print('Ua.h>',U_a_dot_h.shape)\n",
        "\n",
        "            \"\"\" tanh(S.Wa + hj.Ua) \"\"\"\n",
        "            # <= batch_size*en_seq_len, latent_dim\n",
        "            reshaped_Ws_plus_Uh = K.tanh(K.reshape(W_a_dot_s + U_a_dot_h, (-1, en_hidden)))\n",
        "            if verbose:\n",
        "                print('Ws+Uh>', reshaped_Ws_plus_Uh.shape)\n",
        "\n",
        "            \"\"\" softmax(va.tanh(S.Wa + hj.Ua)) \"\"\"\n",
        "            # <= batch_size, en_seq_len\n",
        "            e_i = K.reshape(K.dot(reshaped_Ws_plus_Uh, self.V_a), (-1, en_seq_len))\n",
        "            # <= batch_size, en_seq_len\n",
        "            e_i = K.softmax(e_i)\n",
        "\n",
        "            if verbose:\n",
        "                print('ei>', e_i.shape)\n",
        "\n",
        "            return e_i, [e_i]\n",
        "\n",
        "        def context_step(inputs, states):\n",
        "            \"\"\" Step function for computing ci using ei \"\"\"\n",
        "            # <= batch_size, hidden_size\n",
        "            c_i = K.sum(encoder_out_seq * K.expand_dims(inputs, -1), axis=1)\n",
        "            if verbose:\n",
        "                print('ci>', c_i.shape)\n",
        "            return c_i, [c_i]\n",
        "\n",
        "        def create_inital_state(inputs, hidden_size):\n",
        "            # We are not using initial states, but need to pass something to K.rnn funciton\n",
        "            fake_state = K.zeros_like(inputs)  # <= (batch_size, enc_seq_len, latent_dim\n",
        "            fake_state = K.sum(fake_state, axis=[1, 2])  # <= (batch_size)\n",
        "            fake_state = K.expand_dims(fake_state)  # <= (batch_size, 1)\n",
        "            fake_state = K.tile(fake_state, [1, hidden_size])  # <= (batch_size, latent_dim\n",
        "            return fake_state\n",
        "\n",
        "        fake_state_c = create_inital_state(encoder_out_seq, encoder_out_seq.shape[-1])\n",
        "        fake_state_e = create_inital_state(encoder_out_seq, encoder_out_seq.shape[1])  # <= (batch_size, enc_seq_len, latent_dim\n",
        "\n",
        "        \"\"\" Computing energy outputs \"\"\"\n",
        "        # e_outputs => (batch_size, de_seq_len, en_seq_len)\n",
        "        last_out, e_outputs, _ = K.rnn(\n",
        "            energy_step, decoder_out_seq, [fake_state_e],\n",
        "        )\n",
        "\n",
        "        \"\"\" Computing context vectors \"\"\"\n",
        "        last_out, c_outputs, _ = K.rnn(\n",
        "            context_step, e_outputs, [fake_state_c],\n",
        "        )\n",
        "\n",
        "        return c_outputs, e_outputs\n",
        "\n",
        "    def compute_output_shape(self, input_shape):\n",
        "        \"\"\" Outputs produced by the layer \"\"\"\n",
        "        return [\n",
        "            tf.TensorShape((input_shape[1][0], input_shape[1][1], input_shape[1][2])),\n",
        "            tf.TensorShape((input_shape[1][0], input_shape[1][1], input_shape[0][1]))\n",
        "        ]"
      ],
      "execution_count": null,
      "outputs": []
    },
    {
      "cell_type": "code",
      "metadata": {
        "colab": {
          "base_uri": "https://localhost:8080/"
        },
        "id": "rO8n2GUbgN8Q",
        "outputId": "c6416cae-5e97-4a3f-bba1-ed6946131f85"
      },
      "source": [
        "K.clear_session()\n",
        "latent_dim = 200\n",
        "\n",
        "# Encoder\n",
        "encoder_inputs = Input(shape=(speech_max_len,))\n",
        "\n",
        "encoder_emb_layer = Embedding(x_voc_size, 100, weights=[embedding_matrix],input_length=speech_max_len, trainable=False)\n",
        "encoder_emb = encoder_emb_layer(encoder_inputs)\n",
        "\n",
        "encoder_bilstm=Bidirectional(\n",
        "    LSTM(latent_dim\n",
        "         , return_state=True\n",
        "         , return_sequences=True\n",
        "         , activation=\"tanh\"\n",
        "         , recurrent_activation=\"sigmoid\"\n",
        "         , recurrent_dropout=0\n",
        "         , unroll=False\n",
        "         , use_bias=True\n",
        "))\n",
        "encoder_outputs, forward_h, forward_c, backward_h, backward_c = encoder_bilstm(encoder_emb)\n",
        "state_h = Add()([forward_h, backward_h])\n",
        "state_c = Add()([forward_c, backward_c])\n",
        "\n",
        "# Decoder\n",
        "decoder_inputs = Input(shape=(None,))\n",
        "\n",
        "decoder_emb_layer = Embedding(x_voc_size, 100, weights=[embedding_matrix],input_length=summary_max_len, trainable=False)\n",
        "decoder_emb = decoder_emb_layer(decoder_inputs)\n",
        "\n",
        "# LSTM using encoder_states as initial state\n",
        "decoder_lstm = LSTM(latent_dim, return_sequences=True, return_state=True)\n",
        "decoder_outputs, decoder_fwd_state, decoder_back_state = decoder_lstm(decoder_emb, initial_state=[state_h, state_c])\n",
        "\n",
        "# Attention Layer\n",
        "attn_layer = AttentionLayer(name='attention_layer')\n",
        "attn_out, attn_states = attn_layer([encoder_outputs, decoder_outputs])\n",
        "\n",
        "# Concat attention output and decoder LSTM output\n",
        "decoder_concat_input = Concatenate(axis=-1, name='concat_layer')([decoder_outputs, attn_out])\n",
        "\n",
        "# Dense layer\n",
        "decoder_dense = TimeDistributed(Dense(y_voc_size, activation='softmax'))\n",
        "decoder_outputs = decoder_dense(decoder_concat_input)\n",
        "\n",
        "# Define the model\n",
        "model = Model([encoder_inputs, decoder_inputs], decoder_outputs)\n",
        "model.summary()"
      ],
      "execution_count": null,
      "outputs": [
        {
          "output_type": "stream",
          "text": [
            "Model: \"functional_1\"\n",
            "__________________________________________________________________________________________________\n",
            "Layer (type)                    Output Shape         Param #     Connected to                     \n",
            "==================================================================================================\n",
            "input_1 (InputLayer)            [(None, 610)]        0                                            \n",
            "__________________________________________________________________________________________________\n",
            "embedding (Embedding)           (None, 610, 100)     12298300    input_1[0][0]                    \n",
            "__________________________________________________________________________________________________\n",
            "input_2 (InputLayer)            [(None, None)]       0                                            \n",
            "__________________________________________________________________________________________________\n",
            "bidirectional (Bidirectional)   [(None, 610, 400), ( 481600      embedding[0][0]                  \n",
            "__________________________________________________________________________________________________\n",
            "embedding_1 (Embedding)         (None, None, 100)    12298300    input_2[0][0]                    \n",
            "__________________________________________________________________________________________________\n",
            "add (Add)                       (None, 200)          0           bidirectional[0][1]              \n",
            "                                                                 bidirectional[0][3]              \n",
            "__________________________________________________________________________________________________\n",
            "add_1 (Add)                     (None, 200)          0           bidirectional[0][2]              \n",
            "                                                                 bidirectional[0][4]              \n",
            "__________________________________________________________________________________________________\n",
            "lstm_1 (LSTM)                   [(None, None, 200),  240800      embedding_1[0][0]                \n",
            "                                                                 add[0][0]                        \n",
            "                                                                 add_1[0][0]                      \n",
            "__________________________________________________________________________________________________\n",
            "attention_layer (AttentionLayer ((None, None, 400),  240400      bidirectional[0][0]              \n",
            "                                                                 lstm_1[0][0]                     \n",
            "__________________________________________________________________________________________________\n",
            "concat_layer (Concatenate)      (None, None, 600)    0           lstm_1[0][0]                     \n",
            "                                                                 attention_layer[0][0]            \n",
            "__________________________________________________________________________________________________\n",
            "time_distributed (TimeDistribut (None, None, 30044)  18056444    concat_layer[0][0]               \n",
            "==================================================================================================\n",
            "Total params: 43,615,844\n",
            "Trainable params: 19,019,244\n",
            "Non-trainable params: 24,596,600\n",
            "__________________________________________________________________________________________________\n"
          ],
          "name": "stdout"
        }
      ]
    },
    {
      "cell_type": "code",
      "metadata": {
        "colab": {
          "base_uri": "https://localhost:8080/"
        },
        "id": "hZ5-J0Ndga0q",
        "outputId": "7cc3a689-7b3f-4f4e-b314-46379e91aa9a"
      },
      "source": [
        "model.compile(optimizer='rmsprop', loss='sparse_categorical_crossentropy')\n",
        "es = EarlyStopping(monitor='val_loss', mode='min', verbose=1)\n",
        "\n",
        "history=model.fit(\n",
        "    x=[x_train, y_train[:,:-1]]\n",
        "    , y=y_train.reshape(y_train.shape[0],y_train.shape[1], 1)[:,1:]\n",
        "    , epochs=15\n",
        "    , callbacks=[es]\n",
        "    , batch_size=256\n",
        "    , verbose=1\n",
        "    , validation_data=(\n",
        "        [x_test, y_test[:,:-1]]\n",
        "        , y_test.reshape(y_test.shape[0],y_test.shape[1], 1)[:,1:])\n",
        ")"
      ],
      "execution_count": null,
      "outputs": [
        {
          "output_type": "stream",
          "text": [
            "Epoch 1/15\n",
            "228/228 [==============================] - 396s 2s/step - loss: 5.9200 - accuracy: 0.2321 - val_loss: 5.5203 - val_accuracy: 0.2663\n",
            "Epoch 2/15\n",
            "228/228 [==============================] - 405s 2s/step - loss: 5.3377 - accuracy: 0.2840 - val_loss: 5.1255 - val_accuracy: 0.2948\n",
            "Epoch 3/15\n",
            "228/228 [==============================] - 406s 2s/step - loss: 4.9981 - accuracy: 0.3064 - val_loss: 4.8847 - val_accuracy: 0.3138\n",
            "Epoch 4/15\n",
            "228/228 [==============================] - 407s 2s/step - loss: 4.7541 - accuracy: 0.3256 - val_loss: 4.6751 - val_accuracy: 0.3326\n",
            "Epoch 5/15\n",
            "228/228 [==============================] - 407s 2s/step - loss: 4.5582 - accuracy: 0.3411 - val_loss: 4.5594 - val_accuracy: 0.3416\n",
            "Epoch 6/15\n",
            "228/228 [==============================] - 407s 2s/step - loss: 4.4040 - accuracy: 0.3535 - val_loss: 4.4453 - val_accuracy: 0.3535\n",
            "Epoch 7/15\n",
            "228/228 [==============================] - 407s 2s/step - loss: 4.2674 - accuracy: 0.3643 - val_loss: 4.3504 - val_accuracy: 0.3641\n",
            "Epoch 8/15\n",
            "228/228 [==============================] - 408s 2s/step - loss: 4.1520 - accuracy: 0.3739 - val_loss: 4.2766 - val_accuracy: 0.3699\n",
            "Epoch 9/15\n",
            "228/228 [==============================] - 407s 2s/step - loss: 4.0517 - accuracy: 0.3823 - val_loss: 4.2295 - val_accuracy: 0.3757\n",
            "Epoch 10/15\n",
            "228/228 [==============================] - 408s 2s/step - loss: 3.9642 - accuracy: 0.3894 - val_loss: 4.1670 - val_accuracy: 0.3828\n",
            "Epoch 11/15\n",
            "228/228 [==============================] - 407s 2s/step - loss: 3.8810 - accuracy: 0.3966 - val_loss: 4.1419 - val_accuracy: 0.3861\n",
            "Epoch 12/15\n",
            "228/228 [==============================] - 407s 2s/step - loss: 3.8073 - accuracy: 0.4030 - val_loss: 4.1191 - val_accuracy: 0.3888\n",
            "Epoch 13/15\n",
            "228/228 [==============================] - 408s 2s/step - loss: 3.7396 - accuracy: 0.4089 - val_loss: 4.0758 - val_accuracy: 0.3934\n",
            "Epoch 14/15\n",
            "228/228 [==============================] - 407s 2s/step - loss: 3.6754 - accuracy: 0.4141 - val_loss: 4.0372 - val_accuracy: 0.3976\n",
            "Epoch 15/15\n",
            "228/228 [==============================] - 407s 2s/step - loss: 3.6152 - accuracy: 0.4193 - val_loss: 4.0227 - val_accuracy: 0.4001\n"
          ],
          "name": "stdout"
        }
      ]
    },
    {
      "cell_type": "code",
      "metadata": {
        "colab": {
          "base_uri": "https://localhost:8080/",
          "height": 266
        },
        "id": "FnVTE0zagcvo",
        "outputId": "0168f55f-1938-460f-b90f-001e4faec181"
      },
      "source": [
        "plt.plot(history.history['loss'], label='train')\n",
        "plt.plot(history.history['val_loss'], label='test')\n",
        "plt.legend()\n",
        "plt.show()"
      ],
      "execution_count": null,
      "outputs": [
        {
          "output_type": "display_data",
          "data": {
            "image/png": "[encoded data removed]",
            "text/plain": [
              "<Figure size 432x288 with 1 Axes>"
            ]
          },
          "metadata": {
            "tags": [],
            "needs_background": "light"
          }
        }
      ]
    },
    {
      "cell_type": "markdown",
      "metadata": {
        "id": "tPLDzQzQYWsy"
      },
      "source": [
        "## Fase de Inferência do Modelo"
      ]
    },
    {
      "cell_type": "code",
      "metadata": {
        "id": "UeordbFMgkd1"
      },
      "source": [
        "encoder_model = Model(inputs=encoder_inputs,outputs=[encoder_outputs, state_h, state_c])\n",
        "\n",
        "# decoder inference\n",
        "decoder_state_input_h = Input(shape=(latent_dim,))\n",
        "decoder_state_input_c = Input(shape=(latent_dim,))\n",
        "decoder_hidden_state_input = Input(shape=(speech_max_len,400))\n",
        "\n",
        "# Get the embeddings of the decoder sequence\n",
        "dec_emb2 = decoder_emb_layer(decoder_inputs)\n",
        "\n",
        "# To predict the next word in the sequence, set the initial states to the states from the previous time step\n",
        "decoder_outputs2, state_h2, state_c2 = decoder_lstm(dec_emb2, initial_state=[decoder_state_input_h, decoder_state_input_c])\n",
        "\n",
        "# attention inference\n",
        "attn_out_inf, attn_states_inf = attn_layer([decoder_hidden_state_input, decoder_outputs2])\n",
        "decoder_inf_concat = Concatenate(axis=-1, name='concat')([decoder_outputs2, attn_out_inf])\n",
        "\n",
        "# A dense softmax layer to generate prob dist. over the target vocabulary\n",
        "decoder_outputs2 = decoder_dense(decoder_inf_concat)\n",
        "\n",
        "# Final decoder model\n",
        "decoder_model = Model(\n",
        "[decoder_inputs] + [decoder_hidden_state_input,decoder_state_input_h, decoder_state_input_c],\n",
        "[decoder_outputs2] + [state_h2, state_c2])"
      ],
      "execution_count": null,
      "outputs": []
    },
    {
      "cell_type": "code",
      "metadata": {
        "id": "bRIwnzv7gk-Z"
      },
      "source": [
        "reverse_source_word_index=speech_tokenizer.index_word\n",
        "reverse_target_word_index=summary_tokenizer.index_word\n",
        "target_word_index=summary_tokenizer.word_index\n",
        "\n",
        "def decode_sequence(input_seq):\n",
        "    # Encode the input as state vectors.\n",
        "    e_out, e_h, e_c = encoder_model.predict(input_seq)\n",
        "    # print('input_seq: {}, e_out: {} '.format(input_seq,e_out))\n",
        "    # Generate empty target sequence of length 1.\n",
        "    target_seq = np.zeros((1,1))\n",
        "\n",
        "    # Chose the 'start' word as the first word of the target sequence\n",
        "    target_seq[0, 0] = target_word_index['start']\n",
        "\n",
        "    stop_condition = False\n",
        "    decoded_sentence = ''\n",
        "    while not stop_condition:\n",
        "        output_tokens, h, c = decoder_model.predict([target_seq] + [e_out, e_h, e_c])\n",
        "\n",
        "        # Sample a token\n",
        "        sampled_token_index = np.argmax(output_tokens[0, -1, :])\n",
        "        if sampled_token_index == 0:\n",
        "            sampled_token = 'end'\n",
        "        else:\n",
        "            sampled_token = reverse_target_word_index[sampled_token_index]\n",
        "        # print(\"sampled_token:\",sampled_token)\n",
        "        if(sampled_token!='end'):\n",
        "            decoded_sentence += ' '+sampled_token\n",
        "\n",
        "            # Exit condition: either hit max length or find stop word.\n",
        "        if (sampled_token == 'end' or len(decoded_sentence.split()) >= (summary_max_len-1)):\n",
        "                stop_condition = True\n",
        "\n",
        "        # Update the target sequence (of length 1).\n",
        "        target_seq = np.zeros((1,1))\n",
        "        target_seq[0, 0] = sampled_token_index\n",
        "        # stop_condition = True\n",
        "        # Update internal states\n",
        "        e_h, e_c = h, c\n",
        "\n",
        "    return decoded_sentence\n",
        "def seq2summary(input_seq):\n",
        "    newString=''\n",
        "    for i in input_seq:\n",
        "      if((i!=0 and i!=target_word_index['start']) and i!=target_word_index['end']):\n",
        "        newString=newString+reverse_target_word_index[i]+' '\n",
        "    return newString\n",
        "def seq2text(input_seq):\n",
        "    newString=''\n",
        "    for i in input_seq:\n",
        "      if(i!=0):\n",
        "        newString=newString+reverse_source_word_index[i]+' '\n",
        "    return newString"
      ],
      "execution_count": null,
      "outputs": []
    },
    {
      "cell_type": "code",
      "metadata": {
        "id": "l_2d3p1hjSGN"
      },
      "source": [
        "for i in range(10,20):\n",
        "    print(f\"Review: {seq2text(x_test[i])}\")\n",
        "    summ = seq2summary(y_test[i])\n",
        "    print(f\"Original summary: {summ}\")\n",
        "    pred_summ = decode_sequence(x_test[i].reshape(1,  speech_max_len))\n",
        "    print(f\"Predicted summary: {pred_summ}\")"
      ],
      "execution_count": null,
      "outputs": []
    },
    {
      "cell_type": "markdown",
      "metadata": {
        "id": "6B5FL4rMZXQK"
      },
      "source": [
        "## Avaliação do modelo"
      ]
    },
    {
      "cell_type": "code",
      "metadata": {
        "id": "MJC3OF_V6_bU"
      },
      "source": [
        "rouge = Rouge()\n",
        "\n",
        "data = []\n",
        "for i in range(len(x_test)):\n",
        "    summ = seq2summary(y_test[i])\n",
        "    pred_summ = decode_sequence(x_test[i].reshape(1,speech_max_len))\n",
        "    rouge_list = [0, 0, 0]\n",
        "    if len(pred_summ) > 0 and len(summ):\n",
        "        scores = rouge.get_scores(pred_summ, summ)[0]\n",
        "        rouge_list = [scores['rouge-1']['f'], scores['rouge-2']['f'], scores['rouge-l']['f']]\n",
        "    data.append([\n",
        "        seq2text(x_test[i])\n",
        "        , summ\n",
        "        , pred_summ\n",
        "        , rouge_list[0]\n",
        "        , rouge_list[1]\n",
        "        , rouge_list[2]\n",
        "    ])\n",
        "\n",
        "val_df = pd.DataFrame(data, columns=['speech', 'original_summary', 'predicted_summary', 'rouge_1', 'rouge_2', 'rouge_l'])"
      ],
      "execution_count": null,
      "outputs": []
    },
    {
      "cell_type": "code",
      "metadata": {
        "colab": {
          "base_uri": "https://localhost:8080/"
        },
        "id": "MqqwA2PEpGeL",
        "outputId": "3a374bf6-da10-42d9-d3d2-29328f0176e7"
      },
      "source": [
        "print(f\"Rouge-1 average score: {val_df['rouge_1'].mean()}\")\n",
        "print(f\"Rouge-2 average score: {val_df['rouge_2'].mean()}\")\n",
        "print(f\"Rouge-L average score: {val_df['rouge_l'].mean()}\")"
      ],
      "execution_count": null,
      "outputs": [
        {
          "output_type": "stream",
          "text": [
            "Rouge-1 average score: 0.17907017583738444\n",
            "Rouge-2 average score: 0.06125812653200354\n",
            "Rouge-L average score: 0.1756311384612113\n"
          ],
          "name": "stdout"
        }
      ]
    },
    {
      "cell_type": "code",
      "metadata": {
        "id": "lk5RGNjqY4yp"
      },
      "source": [
        "_, _, F1 = score(val_data['predicted_summary'].tolist(), val_data['original_summary'].tolist(), lang=\"pt\", verbose=True)\n",
        "print(f\"System level F1 score: {F1.mean():.3f}\")\n",
        "val_data['bertscore'] = F1.tolist()"
      ],
      "execution_count": null,
      "outputs": []
    },
    {
      "cell_type": "code",
      "metadata": {
        "id": "nhH3fVLWqS5y"
      },
      "source": [
        "val_df.to_csv('/content/drive/My Drive/Colab Notebooks/resumos_teste.csv', index=False)"
      ],
      "execution_count": null,
      "outputs": []
    }
  ]
}